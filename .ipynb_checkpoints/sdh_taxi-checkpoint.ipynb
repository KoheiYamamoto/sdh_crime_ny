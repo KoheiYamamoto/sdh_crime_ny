{
 "cells": [
  {
   "cell_type": "code",
   "execution_count": 1,
   "metadata": {},
   "outputs": [
    {
     "name": "stderr",
     "output_type": "stream",
     "text": [
      "/Users/koheiyamamoto/.pyenv/versions/anaconda3-5.3.1/lib/python3.7/site-packages/dask/dataframe/utils.py:13: FutureWarning: pandas.util.testing is deprecated. Use the functions in the public API at pandas.testing instead.\n",
      "  import pandas.util.testing as tm\n"
     ]
    }
   ],
   "source": [
    "import pandas as pd\n",
    "import os\n",
    "from tqdm import tqdm_notebook as tqdm \n",
    "import dask.dataframe as dd\n",
    "from dask.diagnostics import ProgressBar\n",
    "ProgressBar().register()\n",
    "import multiprocessing\n",
    "nCPU = multiprocessing.cpu_count()\n",
    "from datetime import datetime, timedelta"
   ]
  },
  {
   "cell_type": "code",
   "execution_count": 2,
   "metadata": {},
   "outputs": [],
   "source": [
    "# Get paths to files under the pwd, returned to get_df()\n",
    "def get_paths(c_path, extension, yyyymmdd, limitation_keyword):\n",
    "  l = []\n",
    "  for pathname, dirnames, filenames in os.walk(c_path):\n",
    "      for filename in filenames: \n",
    "          if yyyymmdd in filename.split('.')[0] and filename.split('.')[1] == extension:\n",
    "              formal_path = os.path.join(pathname, filename)\n",
    "              if limitation_keyword == '': # when no keyword is specified\n",
    "                  l.append(formal_path)\n",
    "              else:\n",
    "                  if limitation_keyword in formal_path.split('/'): # when keyword specified\n",
    "                      l.append(formal_path) \n",
    "  return l\n",
    "\n",
    "def get_date(x): \n",
    "    t = datetime.strptime(x, \"%Y-%m-%d %H:%M:%S\")\n",
    "    date = str(t.year) + '-' + str(\"%02d\" % t.month) + '-' + str(\"%02d\" % t.day)\n",
    "    if t.year != 2017: # 2016 data is by accident included\n",
    "        return None\n",
    "    else:\n",
    "        return date\n",
    "\n",
    "def get_timeperiod(x): \n",
    "    t = datetime.strptime(x, \"%Y-%m-%d %H:%M:%S\")\n",
    "    if t.hour in [22, 23, 0, 1, 2, 3]:\n",
    "        tp = 'latenight'\n",
    "    elif t.hour in [4, 5, 6, 7, 8, 9]:\n",
    "        tp = 'morning'\n",
    "    elif t.hour in [10, 11, 12, 13, 14, 15]:\n",
    "        tp = 'midday' \n",
    "    else:\n",
    "        tp = 'evening'\n",
    "    return tp "
   ]
  },
  {
   "cell_type": "code",
   "execution_count": 3,
   "metadata": {},
   "outputs": [],
   "source": [
    "def aggregate_taxidata(datadir, dataname):\n",
    "    df_out = pd.DataFrame(index=[], columns=['DOLocationID', 'Date', 'Time_Period'])\n",
    "    for i in tqdm(get_paths('./data/' + datadir, 'csv', dataname, '')):\n",
    "        df = pd.read_csv(i, dtype=str)\n",
    "        \n",
    "        if datadir == 'yellow':\n",
    "            dropField = ['VendorID', 'tpep_pickup_datetime', 'passenger_count', 'trip_distance', 'PULocationID', 'RatecodeID', 'store_and_fwd_flag', 'payment_type', 'fare_amount', 'extra', 'mta_tax', 'improvement_surcharge', 'tip_amount', 'tolls_amount', 'total_amount']\n",
    "            df = df.drop(dropField, axis='columns')\n",
    "        elif datadir == 'green':\n",
    "            dropField = ['VendorID', 'lpep_pickup_datetime', 'store_and_fwd_flag', 'RatecodeID', 'PULocationID', 'passenger_count', 'trip_distance', 'fare_amount', 'extra', 'mta_tax', 'tip_amount', 'tolls_amount', 'ehail_fee', 'improvement_surcharge', 'total_amount', 'payment_type', 'trip_type']\n",
    "            df = df.drop(dropField, axis='columns')\n",
    "            df.rename(inplace=True, columns={\"lpep_dropoff_datetime\": \"tpep_dropoff_datetime\", \"DOLocationID\": \"DOLocationID\"})\n",
    "        elif datadir == 'fhv':\n",
    "            dropField = ['Dispatching_base_num', 'Pickup_DateTime', 'PUlocationID']\n",
    "            df = df.drop(dropField, axis='columns')\n",
    "            df = df.dropna(subset=['DropOff_datetime']) \n",
    "            df = df.dropna(subset=['DOlocationID']) \n",
    "            df.rename(inplace=True, columns={\"DropOff_datetime\": \"tpep_dropoff_datetime\", \"DOlocationID\": \"DOLocationID\"})\n",
    "    \n",
    "        df = dd.from_pandas(df, npartitions=nCPU)\n",
    "        meta = df['tpep_dropoff_datetime'].head(1).apply(lambda x: get_date(x))\n",
    "        res = df['tpep_dropoff_datetime'].apply(lambda x: get_date(x), meta=meta)\n",
    "        df['Date'] = res.compute(scheduler='processes') \n",
    "        meta = df['tpep_dropoff_datetime'].head(1).apply(lambda x: get_timeperiod(x))\n",
    "        res = df['tpep_dropoff_datetime'].apply(lambda x: get_timeperiod(x), meta=meta)\n",
    "        df['Time_Period'] = res.compute(scheduler='processes')\n",
    "        df = df.compute()\n",
    "\n",
    "        df = df.dropna(subset=['Date'])\n",
    "        df = df.drop(['tpep_dropoff_datetime'], axis='columns')\n",
    "        df_out = pd.concat([df_out, df])\n",
    "\n",
    "    df_out.reset_index(inplace=True, drop=True)\n",
    "    df_agg_out = pd.DataFrame(index=[], columns=['Date','DOLocationID','Time_Period','Volume'])\n",
    "    for i in tqdm(df_out.Date.unique().tolist()):\n",
    "        df_tmp = df_out.query('Date == @i')\n",
    "\n",
    "        tmp = df_tmp.groupby('DOLocationID').Time_Period.value_counts().to_frame(name=\"Volume\")\n",
    "        tmp['Date'] = i\n",
    "        tmp.reset_index(inplace=True)\n",
    "        tmp = tmp[['Date','DOLocationID','Time_Period','Volume']]\n",
    "\n",
    "        df_agg_out = pd.concat([df_agg_out, tmp])\n",
    "    df_agg_out.rename(inplace=True, columns={\"Date\": \"Date\", \"DOLocationID\": \"Taxi_Zone\", \"Time_Period\": \"Time_Period\", \"Volume\": \"Volume\"})\n",
    "    df_agg_out.to_csv(dataname + '_out.csv', index=False)"
   ]
  },
  {
   "cell_type": "code",
   "execution_count": 4,
   "metadata": {},
   "outputs": [
    {
     "data": {
      "application/vnd.jupyter.widget-view+json": {
       "model_id": "39d269561713412a89d103ac7901ac77",
       "version_major": 2,
       "version_minor": 0
      },
      "text/plain": [
       "HBox(children=(IntProgress(value=0, max=12), HTML(value='')))"
      ]
     },
     "metadata": {},
     "output_type": "display_data"
    },
    {
     "name": "stdout",
     "output_type": "stream",
     "text": [
      "[########################################] | 100% Completed |  0.1s\n",
      "[########################################] | 100% Completed |  1min  7.2s\n",
      "[########################################] | 100% Completed |  0.1s\n",
      "[########################################] | 100% Completed |  8min 31.4s\n",
      "[########################################] | 100% Completed |  1.2s\n",
      "[########################################] | 100% Completed |  0.1s\n",
      "[########################################] | 100% Completed |  1min 12.2s\n",
      "[########################################] | 100% Completed |  0.1s\n",
      "[########################################] | 100% Completed |  9min  3.6s\n",
      "[########################################] | 100% Completed |  1.3s\n",
      "[########################################] | 100% Completed |  0.1s\n",
      "[########################################] | 100% Completed |  1min  4.7s\n",
      "[########################################] | 100% Completed |  0.1s\n",
      "[########################################] | 100% Completed |  8min 21.2s\n",
      "[########################################] | 100% Completed |  1.3s\n",
      "[########################################] | 100% Completed |  0.1s\n",
      "[########################################] | 100% Completed |  1min 12.1s\n",
      "[########################################] | 100% Completed |  0.1s\n",
      "[########################################] | 100% Completed |  9min 14.0s\n",
      "[########################################] | 100% Completed |  1.4s\n",
      "[########################################] | 100% Completed |  0.1s\n",
      "[########################################] | 100% Completed |  1min 20.3s\n",
      "[########################################] | 100% Completed |  0.1s\n",
      "[########################################] | 100% Completed |  9min  7.3s\n",
      "[########################################] | 100% Completed |  1.3s\n",
      "[########################################] | 100% Completed |  0.1s\n",
      "[########################################] | 100% Completed |  1min  2.2s\n",
      "[########################################] | 100% Completed |  0.1s\n",
      "[########################################] | 100% Completed |  7min 43.1s\n",
      "[########################################] | 100% Completed |  1.1s\n",
      "[########################################] | 100% Completed |  0.1s\n",
      "[########################################] | 100% Completed |  1min 12.1s\n",
      "[########################################] | 100% Completed |  0.1s\n",
      "[########################################] | 100% Completed |  9min  2.5s\n",
      "[########################################] | 100% Completed |  1.2s\n",
      "[########################################] | 100% Completed |  0.1s\n",
      "[########################################] | 100% Completed |  1min  7.7s\n",
      "[########################################] | 100% Completed |  0.1s\n",
      "[########################################] | 100% Completed |  8min 24.0s\n",
      "[########################################] | 100% Completed |  1.1s\n",
      "[########################################] | 100% Completed |  0.1s\n",
      "[########################################] | 100% Completed |  1min 12.3s\n",
      "[########################################] | 100% Completed |  0.1s\n",
      "[########################################] | 100% Completed |  8min 51.3s\n",
      "[########################################] | 100% Completed |  1.2s\n",
      "[########################################] | 100% Completed |  0.1s\n",
      "[########################################] | 100% Completed |  1min 12.6s\n",
      "[########################################] | 100% Completed |  0.1s\n",
      "[########################################] | 100% Completed |  9min  1.2s\n",
      "[########################################] | 100% Completed |  1.3s\n",
      "[########################################] | 100% Completed |  0.1s\n",
      "[########################################] | 100% Completed |  1min  6.8s\n",
      "[########################################] | 100% Completed |  0.1s\n",
      "[########################################] | 100% Completed |  8min 10.6s\n",
      "[########################################] | 100% Completed |  1.1s\n",
      "[########################################] | 100% Completed |  0.1s\n",
      "[########################################] | 100% Completed |  1min  4.0s\n",
      "[########################################] | 100% Completed |  0.1s\n",
      "[########################################] | 100% Completed |  7min 43.0s\n",
      "[########################################] | 100% Completed |  1.1s\n",
      "\n"
     ]
    },
    {
     "data": {
      "application/vnd.jupyter.widget-view+json": {
       "model_id": "0146dd6b686e4eb090630e3c42220672",
       "version_major": 2,
       "version_minor": 0
      },
      "text/plain": [
       "HBox(children=(IntProgress(value=0, max=365), HTML(value='')))"
      ]
     },
     "metadata": {},
     "output_type": "display_data"
    },
    {
     "name": "stdout",
     "output_type": "stream",
     "text": [
      "\n"
     ]
    }
   ],
   "source": [
    "aggregate_taxidata('yellow', 'yellow_tripdata_2017')"
   ]
  },
  {
   "cell_type": "code",
   "execution_count": 5,
   "metadata": {},
   "outputs": [
    {
     "data": {
      "application/vnd.jupyter.widget-view+json": {
       "model_id": "968ce4c0b7094ec6b9e3ca96d5277d02",
       "version_major": 2,
       "version_minor": 0
      },
      "text/plain": [
       "HBox(children=(IntProgress(value=0, max=12), HTML(value='')))"
      ]
     },
     "metadata": {},
     "output_type": "display_data"
    },
    {
     "name": "stdout",
     "output_type": "stream",
     "text": [
      "[########################################] | 100% Completed |  0.1s\n",
      "[########################################] | 100% Completed |  6.2s\n",
      "[########################################] | 100% Completed |  0.1s\n",
      "[########################################] | 100% Completed | 44.1s\n",
      "[########################################] | 100% Completed |  0.2s\n",
      "[########################################] | 100% Completed |  0.1s\n",
      "[########################################] | 100% Completed |  6.6s\n",
      "[########################################] | 100% Completed |  0.1s\n",
      "[########################################] | 100% Completed | 44.4s\n",
      "[########################################] | 100% Completed |  0.2s\n",
      "[########################################] | 100% Completed |  0.1s\n",
      "[########################################] | 100% Completed |  7.8s\n",
      "[########################################] | 100% Completed |  0.1s\n",
      "[########################################] | 100% Completed | 53.6s\n",
      "[########################################] | 100% Completed |  0.2s\n",
      "[########################################] | 100% Completed |  0.1s\n",
      "[########################################] | 100% Completed |  7.5s\n",
      "[########################################] | 100% Completed |  0.1s\n",
      "[########################################] | 100% Completed | 51.4s\n",
      "[########################################] | 100% Completed |  0.2s\n",
      "[########################################] | 100% Completed |  0.1s\n",
      "[########################################] | 100% Completed |  8.6s\n",
      "[########################################] | 100% Completed |  0.1s\n",
      "[########################################] | 100% Completed | 58.4s\n",
      "[########################################] | 100% Completed |  0.2s\n",
      "[########################################] | 100% Completed |  0.1s\n",
      "[########################################] | 100% Completed |  6.8s\n",
      "[########################################] | 100% Completed |  0.1s\n",
      "[########################################] | 100% Completed | 46.1s\n",
      "[########################################] | 100% Completed |  0.2s\n",
      "[########################################] | 100% Completed |  0.1s\n",
      "[########################################] | 100% Completed |  7.2s\n",
      "[########################################] | 100% Completed |  0.1s\n",
      "[########################################] | 100% Completed | 49.2s\n",
      "[########################################] | 100% Completed |  0.2s\n",
      "[########################################] | 100% Completed |  0.1s\n",
      "[########################################] | 100% Completed |  6.7s\n",
      "[########################################] | 100% Completed |  0.1s\n",
      "[########################################] | 100% Completed | 45.8s\n",
      "[########################################] | 100% Completed |  0.2s\n",
      "[########################################] | 100% Completed |  0.1s\n",
      "[########################################] | 100% Completed |  8.2s\n",
      "[########################################] | 100% Completed |  0.1s\n",
      "[########################################] | 100% Completed | 54.5s\n",
      "[########################################] | 100% Completed |  0.2s\n",
      "[########################################] | 100% Completed |  0.1s\n",
      "[########################################] | 100% Completed |  6.8s\n",
      "[########################################] | 100% Completed |  0.1s\n",
      "[########################################] | 100% Completed | 47.1s\n",
      "[########################################] | 100% Completed |  0.2s\n",
      "[########################################] | 100% Completed |  0.1s\n",
      "[########################################] | 100% Completed |  6.5s\n",
      "[########################################] | 100% Completed |  0.1s\n",
      "[########################################] | 100% Completed | 44.4s\n",
      "[########################################] | 100% Completed |  0.2s\n",
      "[########################################] | 100% Completed |  0.1s\n",
      "[########################################] | 100% Completed |  7.7s\n",
      "[########################################] | 100% Completed |  0.1s\n",
      "[########################################] | 100% Completed | 53.5s\n",
      "[########################################] | 100% Completed |  0.2s\n",
      "\n"
     ]
    },
    {
     "data": {
      "application/vnd.jupyter.widget-view+json": {
       "model_id": "d1ab92c380fe43dc861dd59316c75341",
       "version_major": 2,
       "version_minor": 0
      },
      "text/plain": [
       "HBox(children=(IntProgress(value=0, max=365), HTML(value='')))"
      ]
     },
     "metadata": {},
     "output_type": "display_data"
    },
    {
     "name": "stdout",
     "output_type": "stream",
     "text": [
      "\n"
     ]
    }
   ],
   "source": [
    "aggregate_taxidata('green', 'green_tripdata_2017')"
   ]
  },
  {
   "cell_type": "code",
   "execution_count": 6,
   "metadata": {},
   "outputs": [
    {
     "data": {
      "application/vnd.jupyter.widget-view+json": {
       "model_id": "9922cf0a35db4a04b71e05c85af6ba54",
       "version_major": 2,
       "version_minor": 0
      },
      "text/plain": [
       "HBox(children=(IntProgress(value=0, max=12), HTML(value='')))"
      ]
     },
     "metadata": {},
     "output_type": "display_data"
    },
    {
     "name": "stdout",
     "output_type": "stream",
     "text": [
      "[########################################] | 100% Completed |  0.1s\n"
     ]
    },
    {
     "name": "stderr",
     "output_type": "stream",
     "text": [
      "/Users/koheiyamamoto/.pyenv/versions/anaconda3-5.3.1/lib/python3.7/site-packages/dask/dataframe/core.py:4347: UserWarning: Insufficient elements for `head`. 1 elements requested, only 0 elements available. Try passing larger `npartitions` to `head`.\n",
      "  warnings.warn(msg.format(n, len(r)))\n"
     ]
    },
    {
     "name": "stdout",
     "output_type": "stream",
     "text": [
      "[########################################] | 100% Completed |  0.1s\n",
      "[########################################] | 100% Completed |  0.1s\n",
      "[########################################] | 100% Completed |  0.1s\n",
      "[########################################] | 100% Completed |  0.1s\n",
      "[########################################] | 100% Completed |  0.1s\n",
      "[########################################] | 100% Completed |  0.1s\n",
      "[########################################] | 100% Completed |  0.1s\n",
      "[########################################] | 100% Completed |  0.1s\n",
      "[########################################] | 100% Completed |  0.1s\n",
      "[########################################] | 100% Completed |  0.1s\n",
      "[########################################] | 100% Completed |  0.1s\n",
      "[########################################] | 100% Completed |  0.1s\n",
      "[########################################] | 100% Completed |  0.1s\n",
      "[########################################] | 100% Completed |  0.1s\n",
      "[########################################] | 100% Completed |  0.1s\n",
      "[########################################] | 100% Completed |  2min 18.4s\n",
      "[########################################] | 100% Completed |  0.1s\n",
      "[########################################] | 100% Completed | 15min  9.1s\n",
      "[########################################] | 100% Completed |  3.0s\n",
      "[########################################] | 100% Completed |  0.1s\n",
      "[########################################] | 100% Completed |  0.1s\n",
      "[########################################] | 100% Completed |  0.1s\n",
      "[########################################] | 100% Completed |  0.1s\n",
      "[########################################] | 100% Completed |  0.1s\n",
      "[########################################] | 100% Completed |  0.1s\n"
     ]
    },
    {
     "name": "stderr",
     "output_type": "stream",
     "text": [
      "/Users/koheiyamamoto/.pyenv/versions/anaconda3-5.3.1/lib/python3.7/site-packages/dask/dataframe/core.py:4347: UserWarning: Insufficient elements for `head`. 1 elements requested, only 0 elements available. Try passing larger `npartitions` to `head`.\n",
      "  warnings.warn(msg.format(n, len(r)))\n"
     ]
    },
    {
     "name": "stdout",
     "output_type": "stream",
     "text": [
      "[########################################] | 100% Completed |  0.1s\n",
      "[########################################] | 100% Completed |  0.1s\n",
      "[########################################] | 100% Completed |  0.1s\n",
      "[########################################] | 100% Completed |  0.1s\n",
      "[########################################] | 100% Completed |  0.1s\n",
      "[########################################] | 100% Completed |  2min 15.2s\n",
      "[########################################] | 100% Completed |  0.1s\n",
      "[########################################] | 100% Completed | 15min  1.7s\n",
      "[########################################] | 100% Completed |  2.9s\n",
      "[########################################] | 100% Completed |  0.1s\n",
      "[########################################] | 100% Completed |  1min 39.9s\n",
      "[########################################] | 100% Completed |  0.1s\n",
      "[########################################] | 100% Completed | 11min 47.3s\n",
      "[########################################] | 100% Completed |  1.8s\n",
      "[########################################] | 100% Completed |  0.1s\n",
      "[########################################] | 100% Completed |  2min 32.2s\n",
      "[########################################] | 100% Completed |  0.1s\n",
      "[########################################] | 100% Completed | 16min 53.3s\n",
      "[########################################] | 100% Completed |  3.2s\n",
      "[########################################] | 100% Completed |  0.1s\n",
      "[########################################] | 100% Completed |  2min  0.9s\n",
      "[########################################] | 100% Completed |  0.1s\n",
      "[########################################] | 100% Completed | 13min 21.4s\n",
      "[########################################] | 100% Completed |  2.6s\n",
      "[########################################] | 100% Completed |  0.1s\n",
      "[########################################] | 100% Completed |  2min  9.1s\n",
      "[########################################] | 100% Completed |  0.1s\n",
      "[########################################] | 100% Completed | 14min  5.2s\n",
      "[########################################] | 100% Completed |  2.7s\n",
      "[########################################] | 100% Completed |  0.1s\n",
      "[########################################] | 100% Completed |  2min  2.5s\n",
      "[########################################] | 100% Completed |  0.1s\n",
      "[########################################] | 100% Completed | 13min 34.6s\n",
      "[########################################] | 100% Completed |  2.6s\n",
      "\n"
     ]
    },
    {
     "data": {
      "application/vnd.jupyter.widget-view+json": {
       "model_id": "11dba5456fda4302bc9befdf45b72d35",
       "version_major": 2,
       "version_minor": 0
      },
      "text/plain": [
       "HBox(children=(IntProgress(value=0, max=216), HTML(value='')))"
      ]
     },
     "metadata": {},
     "output_type": "display_data"
    },
    {
     "name": "stdout",
     "output_type": "stream",
     "text": [
      "\n"
     ]
    }
   ],
   "source": [
    "aggregate_taxidata('fhv', 'fhv_tripdata_2017')"
   ]
  },
  {
   "cell_type": "code",
   "execution_count": null,
   "metadata": {},
   "outputs": [],
   "source": []
  }
 ],
 "metadata": {
  "kernelspec": {
   "display_name": "Python 3",
   "language": "python",
   "name": "python3"
  },
  "language_info": {
   "codemirror_mode": {
    "name": "ipython",
    "version": 3
   },
   "file_extension": ".py",
   "mimetype": "text/x-python",
   "name": "python",
   "nbconvert_exporter": "python",
   "pygments_lexer": "ipython3",
   "version": "3.7.2"
  }
 },
 "nbformat": 4,
 "nbformat_minor": 2
}
